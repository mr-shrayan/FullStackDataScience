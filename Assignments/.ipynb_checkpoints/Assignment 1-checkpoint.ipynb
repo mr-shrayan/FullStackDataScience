{
 "cells": [
  {
   "cell_type": "markdown",
   "id": "a7cae863",
   "metadata": {},
   "source": [
    "<H3> 1. In the below elements which of them are values or an expression? eg:- values can be integer or string and expressions will be mathematical operators."
   ]
  },
  {
   "cell_type": "markdown",
   "id": "904dc763",
   "metadata": {},
   "source": [
    "Ans: \n",
    "1) The symbol * is an expression<br>\n",
    "2) 'hello' is a value<br>\n",
    "3) -87.8 is a value<br>\n",
    "4) - is an expression<br>\n",
    "5) / is an expression<br>\n",
    "6) +\tis an expression<br>\n",
    "7) 6 is a value<br>"
   ]
  },
  {
   "cell_type": "markdown",
   "id": "596f0339",
   "metadata": {},
   "source": [
    "<H3>2. What is the difference between string and variable?"
   ]
  },
  {
   "cell_type": "markdown",
   "id": "7b9584f6",
   "metadata": {},
   "source": [
    "Ans: A string is a collection of values which is defined inside quotes and used as per the user’s requirements. Whereas a variable is the name of the location on the primary memory of a computer which can store a string or anything ranging from numbers to characters or anything else. "
   ]
  },
  {
   "cell_type": "markdown",
   "id": "3db0af1a",
   "metadata": {},
   "source": [
    "<H3>3. Describe three different data types."
   ]
  },
  {
   "cell_type": "markdown",
   "id": "bfd06b03",
   "metadata": {},
   "source": [
    "Ans:\n",
    "Integer - Numerical values used for computational purposes. Ex: 1,22,12 , etc.<br>\n",
    "String – Collection of values defined inside quotations. Ex. “My name is Shrayan”<br>\n",
    "Boolean – True or False values. <br>"
   ]
  },
  {
   "cell_type": "markdown",
   "id": "8e54351c",
   "metadata": {},
   "source": [
    "<H3>4. What is an expression made up of? What do all expressions do?"
   ]
  },
  {
   "cell_type": "markdown",
   "id": "8906134f",
   "metadata": {},
   "source": [
    "Ans: An expression is a combination of values, variables, operators and function calls. \n",
    "\tExpressions are interpreted which in turn produces other values. \n"
   ]
  },
  {
   "cell_type": "markdown",
   "id": "8b92d5ab",
   "metadata": {},
   "source": [
    "<H3>5. This assignment statements, like spam = 10. What is the difference between an expression and a statement?"
   ]
  },
  {
   "cell_type": "markdown",
   "id": "f39130e1",
   "metadata": {},
   "source": [
    "Ans:  Expression is a combination of functions and values which in turn is interpreted to create another value, Ex. a+b. Whereas a statement does not return another value and is returned as it is, Ex. “Hello, I love this class”. "
   ]
  },
  {
   "cell_type": "markdown",
   "id": "51505b20",
   "metadata": {},
   "source": [
    "<H3>6. After running the following code, what does the variable bacon contain?<br>\n",
    "bacon = 22<br>\n",
    "bacon + 1\n"
   ]
  },
  {
   "cell_type": "markdown",
   "id": "24005676",
   "metadata": {},
   "source": [
    "Ans: bacon will contain 22 \n",
    "If we change the second line of code to a=bacon+1 and then print (a) then the value of a will be 23.\n"
   ]
  },
  {
   "cell_type": "markdown",
   "id": "7c56ff02",
   "metadata": {},
   "source": [
    "<H3>7. What should the values of the following two terms be?"
   ]
  },
  {
   "cell_type": "markdown",
   "id": "87954a2e",
   "metadata": {},
   "source": [
    "'spam' + 'spamspam' :- spamspamspam <br>\n",
    "'spam' * 3 : spamspamspam\n"
   ]
  },
  {
   "cell_type": "markdown",
   "id": "396337c8",
   "metadata": {},
   "source": [
    "<H3>8. Why is eggs a valid variable name while 100 is invalid?"
   ]
  },
  {
   "cell_type": "markdown",
   "id": "209c83d6",
   "metadata": {},
   "source": [
    "Ans: Variable names cannot start with numbers or digits as because it will create certain errors. "
   ]
  },
  {
   "cell_type": "markdown",
   "id": "5b70c5d9",
   "metadata": {},
   "source": [
    "<H3>9. What three functions can be used to get the integer, floating-point number, or string version of a value?"
   ]
  },
  {
   "cell_type": "markdown",
   "id": "8f31bda0",
   "metadata": {},
   "source": [
    "Ans: int(), float(), str()"
   ]
  },
  {
   "cell_type": "markdown",
   "id": "122645e6",
   "metadata": {},
   "source": [
    "<H3>10. Why does this expression cause an error? How can you fix it?<br>\n",
    "'I have eaten ' + 99 + ' burritos.'\n"
   ]
  },
  {
   "cell_type": "markdown",
   "id": "53fec182",
   "metadata": {},
   "source": [
    "Ans: 'I have eaten ' + 99 + ' burritos.'<br>\n",
    "Here we are here trying to concatenate the string with an integer value, which is not acceptable by the compiler and would throw an error. So we need to convert the integer values to string by putting them into quotations, which will remove the error.<br>\n",
    "'I have eaten ' + '99' + ' burritos.'<br>\n"
   ]
  },
  {
   "cell_type": "code",
   "execution_count": null,
   "id": "5c6fe3d0",
   "metadata": {},
   "outputs": [],
   "source": []
  }
 ],
 "metadata": {
  "kernelspec": {
   "display_name": "Python 3",
   "language": "python",
   "name": "python3"
  },
  "language_info": {
   "codemirror_mode": {
    "name": "ipython",
    "version": 3
   },
   "file_extension": ".py",
   "mimetype": "text/x-python",
   "name": "python",
   "nbconvert_exporter": "python",
   "pygments_lexer": "ipython3",
   "version": "3.8.8"
  }
 },
 "nbformat": 4,
 "nbformat_minor": 5
}
