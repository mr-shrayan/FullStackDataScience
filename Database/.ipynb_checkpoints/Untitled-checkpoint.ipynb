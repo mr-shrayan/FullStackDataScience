{
 "cells": [
  {
   "cell_type": "code",
   "execution_count": 1,
   "id": "65845c5c",
   "metadata": {},
   "outputs": [
    {
     "name": "stdout",
     "output_type": "stream",
     "text": [
      "Requirement already satisfied: mysql-connector-python in /Users/shrayan/miniforge3/lib/python3.9/site-packages (8.0.28)\r\n",
      "Requirement already satisfied: protobuf>=3.0.0 in /Users/shrayan/miniforge3/lib/python3.9/site-packages (from mysql-connector-python) (3.18.1)\r\n"
     ]
    }
   ],
   "source": [
    "!pip install mysql-connector-python"
   ]
  },
  {
   "cell_type": "code",
   "execution_count": 1,
   "id": "f3d9327c",
   "metadata": {},
   "outputs": [
    {
     "name": "stdout",
     "output_type": "stream",
     "text": [
      "[('information_schema',), ('mysql',), ('performance_schema',), ('Student',), ('sys',)]\n"
     ]
    }
   ],
   "source": [
    "import mysql.connector as connection\n",
    "\n",
    "try:\n",
    "    mydb = connection.connect(host=\"127.0.0.1\",user=\"root\", passwd=\"harryedward\",use_pure=True)\n",
    "    # check if the connection is established\n",
    "\n",
    "    query = \"SHOW DATABASES\"\n",
    "\n",
    "    cursor = mydb.cursor() #create a cursor to execute queries\n",
    "    cursor.execute(query)\n",
    "    print(cursor.fetchall())\n",
    "\n",
    "except Exception as e:\n",
    "    mydb.close()\n",
    "    print(str(e))"
   ]
  },
  {
   "cell_type": "code",
   "execution_count": 10,
   "id": "a1c2ee75",
   "metadata": {},
   "outputs": [],
   "source": [
    "conn=connection.connect(host=\"127.0.0.1\",user=\"root\", passwd=\"harryedward\",use_pure=True)"
   ]
  },
  {
   "cell_type": "code",
   "execution_count": 18,
   "id": "5a0988be",
   "metadata": {},
   "outputs": [],
   "source": [
    "cur = conn.cursor()"
   ]
  },
  {
   "cell_type": "code",
   "execution_count": 19,
   "id": "299257fc",
   "metadata": {},
   "outputs": [],
   "source": [
    "cur.execute(\"show databases\")"
   ]
  },
  {
   "cell_type": "code",
   "execution_count": 20,
   "id": "96d13a8a",
   "metadata": {},
   "outputs": [],
   "source": [
    "res = cur.fetchall()"
   ]
  },
  {
   "cell_type": "code",
   "execution_count": 21,
   "id": "404553b8",
   "metadata": {},
   "outputs": [
    {
     "data": {
      "text/plain": [
       "[('information_schema',), ('mysql',), ('performance_schema',), ('sys',)]"
      ]
     },
     "execution_count": 21,
     "metadata": {},
     "output_type": "execute_result"
    }
   ],
   "source": [
    "res"
   ]
  },
  {
   "cell_type": "code",
   "execution_count": 22,
   "id": "6cff4b24",
   "metadata": {},
   "outputs": [
    {
     "name": "stdout",
     "output_type": "stream",
     "text": [
      "information_schema\n",
      "mysql\n",
      "performance_schema\n",
      "sys\n"
     ]
    }
   ],
   "source": [
    "for i in res:\n",
    "    print(i[0])"
   ]
  },
  {
   "cell_type": "code",
   "execution_count": 17,
   "id": "dae8e605",
   "metadata": {},
   "outputs": [],
   "source": [
    "#Creating a database as Student and a table as \"StudentDetails\""
   ]
  },
  {
   "cell_type": "code",
   "execution_count": 23,
   "id": "639817e9",
   "metadata": {},
   "outputs": [
    {
     "name": "stdout",
     "output_type": "stream",
     "text": [
      "True\n",
      "Database Created!!\n"
     ]
    }
   ],
   "source": [
    "import mysql.connector as connection\n",
    "\n",
    "try:\n",
    "    mydb = connection.connect(host=\"127.0.0.1\", user=\"root\", passwd=\"harryedward\",use_pure=True)\n",
    "    # check if the connection is established\n",
    "    print(mydb.is_connected())\n",
    "\n",
    "    query = \"Create database Student;\"\n",
    "    cursor = mydb.cursor() #create a cursor to execute queries\n",
    "    cursor.execute(query)\n",
    "    print(\"Database Created!!\")\n",
    "    mydb.close()\n",
    "except Exception as e:\n",
    "    mydb.close()\n",
    "    print(str(e))"
   ]
  },
  {
   "cell_type": "code",
   "execution_count": 24,
   "id": "56ac68ee",
   "metadata": {},
   "outputs": [
    {
     "name": "stdout",
     "output_type": "stream",
     "text": [
      "True\n",
      "Table Created!!\n"
     ]
    }
   ],
   "source": [
    "import mysql.connector as connection\n",
    "\n",
    "try:\n",
    "    mydb = connection.connect(host=\"127.0.0.1\", database = 'Student',user=\"root\", passwd=\"harryedward\",use_pure=True)\n",
    "    # check if the connection is established\n",
    "    print(mydb.is_connected())\n",
    "\n",
    "    query = \"CREATE TABLE StudentDetails (Studentid INT(10) AUTO_INCREMENT PRIMARY KEY,FirstName VARCHAR(60),\" \\\n",
    "            \"LastName VARCHAR(60), RegistrationDate DATE,Class Varchar(20), Section Varchar(10))\"\n",
    "\n",
    "    cursor = mydb.cursor() #create a cursor to execute queries\n",
    "    cursor.execute(query)\n",
    "    print(\"Table Created!!\")\n",
    "    mydb.close()\n",
    "except Exception as e:\n",
    "    mydb.close()\n",
    "    print(str(e))"
   ]
  },
  {
   "cell_type": "code",
   "execution_count": 43,
   "id": "9a11c784",
   "metadata": {},
   "outputs": [],
   "source": [
    "mydb = connection.connect(host=\"127.0.0.1\", database = 'Student',user=\"root\", passwd=\"harryedward\",use_pure=True)"
   ]
  },
  {
   "cell_type": "code",
   "execution_count": 44,
   "id": "993339da",
   "metadata": {},
   "outputs": [
    {
     "data": {
      "text/plain": [
       "True"
      ]
     },
     "execution_count": 44,
     "metadata": {},
     "output_type": "execute_result"
    }
   ],
   "source": [
    "mydb.is_connected()"
   ]
  },
  {
   "cell_type": "code",
   "execution_count": 45,
   "id": "3490990e",
   "metadata": {},
   "outputs": [
    {
     "name": "stdout",
     "output_type": "stream",
     "text": [
      "True\n",
      "1062 (23000): Duplicate entry '1133' for key 'studentdetails.PRIMARY'\n"
     ]
    }
   ],
   "source": [
    "import mysql.connector as connection\n",
    "\n",
    "try:\n",
    "    mydb = connection.connect(host=\"127.0.0.1\", database = 'Student',user=\"root\", passwd=\"harryedward\",use_pure=True)\n",
    "    # check if the connection is established\n",
    "    print(mydb.is_connected())\n",
    "    query = \"INSERT INTO StudentDetails VALUES ('1133','Shrayan','Bandyopadhyay','2000-09-10','College','A')\"\n",
    "\n",
    "    cursor = mydb.cursor() #create a cursor to execute queries\n",
    "    cursor.execute(query)\n",
    "    print(\"Values inserted into the table!!\")\n",
    "    mydb.commit() #after inserting the data we have to commit the data which will finally insert the data to thedatabase. Else data will not be inserted to the database. \n",
    "    mydb.close()\n",
    "except Exception as e:\n",
    "    mydb.close()\n",
    "    print(str(e))"
   ]
  },
  {
   "cell_type": "code",
   "execution_count": 46,
   "id": "fddcaf3b",
   "metadata": {},
   "outputs": [
    {
     "name": "stdout",
     "output_type": "stream",
     "text": [
      "True\n",
      "1062 (23000): Duplicate entry '1135' for key 'studentdetails.PRIMARY'\n"
     ]
    }
   ],
   "source": [
    "import mysql.connector as connection\n",
    "\n",
    "try:\n",
    "    mydb = connection.connect(host=\"127.0.0.1\", database = 'Student',user=\"root\", passwd=\"harryedward\",use_pure=True)\n",
    "    # check if the connection is established\n",
    "    print(mydb.is_connected())\n",
    "    query = \"INSERT INTO StudentDetails VALUES ('1135','Shrayan2','Bandyopadhyay2','2000-09-10','College2','A2')\"\n",
    "\n",
    "    cursor = mydb.cursor() #create a cursor to execute queries\n",
    "    cursor.execute(query)\n",
    "    print(\"Values inserted into the table!!\")\n",
    "    mydb.commit() #after inserting the data we have to commit the data which will finally insert the data to thedatabase. Else data will not be inserted to the database. \n",
    "    mydb.close()\n",
    "except Exception as e:\n",
    "    mydb.close()\n",
    "    print(str(e))"
   ]
  },
  {
   "cell_type": "code",
   "execution_count": 47,
   "id": "36404593",
   "metadata": {},
   "outputs": [],
   "source": [
    "#Fetching data from a table"
   ]
  },
  {
   "cell_type": "code",
   "execution_count": 21,
   "id": "134cf523",
   "metadata": {},
   "outputs": [
    {
     "name": "stdout",
     "output_type": "stream",
     "text": [
      "True\n"
     ]
    }
   ],
   "source": [
    "import mysql.connector as connection \n",
    "\n",
    "try:\n",
    "    mydb = connection.connect(host=\"127.0.0.1\", database = 'Student',user=\"root\", passwd=\"harryedward\",use_pure=True)\n",
    "    print(mydb.is_connected())\n",
    "    cursor = mydb.cursor()\n",
    "    query = \"select * from StudentDetails\"\n",
    "    out = cursor.execute(query)\n",
    "except Exception as e:\n",
    "    mydb.close()\n",
    "    print(str(e))"
   ]
  },
  {
   "cell_type": "code",
   "execution_count": 15,
   "id": "c2f2106e",
   "metadata": {},
   "outputs": [
    {
     "data": {
      "text/plain": [
       "NoneType"
      ]
     },
     "execution_count": 15,
     "metadata": {},
     "output_type": "execute_result"
    }
   ],
   "source": [
    "type(out)"
   ]
  },
  {
   "cell_type": "code",
   "execution_count": 11,
   "id": "7ecd1ce5",
   "metadata": {},
   "outputs": [
    {
     "data": {
      "text/plain": [
       "[(1132, 'Sachin', 'Kumar', datetime.date(1997, 11, 11), 'Eleventh', 'A'),\n",
       " (1133,\n",
       "  'Shrayan',\n",
       "  'Bandyopadhyay',\n",
       "  datetime.date(2000, 9, 10),\n",
       "  'College',\n",
       "  'A'),\n",
       " (1135,\n",
       "  'Shrayan2',\n",
       "  'Bandyopadhyay2',\n",
       "  datetime.date(2000, 9, 10),\n",
       "  'College2',\n",
       "  'A2')]"
      ]
     },
     "execution_count": 11,
     "metadata": {},
     "output_type": "execute_result"
    }
   ],
   "source": [
    "cursor.fetchall()"
   ]
  },
  {
   "cell_type": "code",
   "execution_count": 16,
   "id": "068a09bd",
   "metadata": {},
   "outputs": [
    {
     "name": "stdout",
     "output_type": "stream",
     "text": [
      "(1132, 'Sachin', 'Kumar', datetime.date(1997, 11, 11), 'Eleventh', 'A')\n",
      "(1133, 'Shrayan', 'Bandyopadhyay', datetime.date(2000, 9, 10), 'College', 'A')\n",
      "(1135, 'Shrayan2', 'Bandyopadhyay2', datetime.date(2000, 9, 10), 'College2', 'A2')\n"
     ]
    }
   ],
   "source": [
    "for i in cursor.fetchall():\n",
    "    print(i)"
   ]
  },
  {
   "cell_type": "code",
   "execution_count": 25,
   "id": "4c62d737",
   "metadata": {},
   "outputs": [
    {
     "name": "stdout",
     "output_type": "stream",
     "text": [
      "True\n",
      "(1132, 'Sachin')\n",
      "(1133, 'Shrayan')\n",
      "(1135, 'Shrayan2')\n"
     ]
    }
   ],
   "source": [
    "mydb = connection.connect(host=\"127.0.0.1\", database = 'Student',user=\"root\", passwd=\"harryedward\",use_pure=True)\n",
    "print(mydb.is_connected())\n",
    "cursor = mydb.cursor()\n",
    "query = \"select Studentid, FirstName from StudentDetails\"\n",
    "cursor.execute(query)\n",
    "for i in cursor.fetchall():\n",
    "    print(i)"
   ]
  },
  {
   "cell_type": "code",
   "execution_count": 26,
   "id": "b8386174",
   "metadata": {},
   "outputs": [],
   "source": [
    "mydb.close()"
   ]
  },
  {
   "cell_type": "code",
   "execution_count": null,
   "id": "75b4365d",
   "metadata": {},
   "outputs": [],
   "source": []
  }
 ],
 "metadata": {
  "kernelspec": {
   "display_name": "Python 3",
   "language": "python",
   "name": "python3"
  },
  "language_info": {
   "codemirror_mode": {
    "name": "ipython",
    "version": 3
   },
   "file_extension": ".py",
   "mimetype": "text/x-python",
   "name": "python",
   "nbconvert_exporter": "python",
   "pygments_lexer": "ipython3",
   "version": "3.8.8"
  }
 },
 "nbformat": 4,
 "nbformat_minor": 5
}
