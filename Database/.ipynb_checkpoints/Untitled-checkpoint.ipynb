{
 "cells": [
  {
   "cell_type": "code",
   "execution_count": 1,
   "id": "14279e4d",
   "metadata": {},
   "outputs": [
    {
     "name": "stdout",
     "output_type": "stream",
     "text": [
      "Requirement already satisfied: mysql-connector-python in /Users/shrayan/miniforge3/lib/python3.9/site-packages (8.0.28)\r\n",
      "Requirement already satisfied: protobuf>=3.0.0 in /Users/shrayan/miniforge3/lib/python3.9/site-packages (from mysql-connector-python) (3.18.1)\r\n"
     ]
    }
   ],
   "source": [
    "!pip install mysql-connector-python"
   ]
  },
  {
   "cell_type": "code",
   "execution_count": 2,
   "id": "6db2c6da",
   "metadata": {},
   "outputs": [
    {
     "name": "stdout",
     "output_type": "stream",
     "text": [
      "[('information_schema',), ('mysql',), ('performance_schema',), ('sys',)]\n"
     ]
    }
   ],
   "source": [
    "import mysql.connector as connection\n",
    "\n",
    "try:\n",
    "    mydb = connection.connect(host=\"127.0.0.1\",user=\"root\", passwd=\"harryedward\",use_pure=True)\n",
    "    # check if the connection is established\n",
    "\n",
    "    query = \"SHOW DATABASES\"\n",
    "\n",
    "    cursor = mydb.cursor() #create a cursor to execute queries\n",
    "    cursor.execute(query)\n",
    "    print(cursor.fetchall())\n",
    "\n",
    "except Exception as e:\n",
    "    mydb.close()\n",
    "    print(str(e))"
   ]
  },
  {
   "cell_type": "code",
   "execution_count": 10,
   "id": "5821b073",
   "metadata": {},
   "outputs": [],
   "source": [
    "conn=connection.connect(host=\"127.0.0.1\",user=\"root\", passwd=\"harryedward\",use_pure=True)"
   ]
  },
  {
   "cell_type": "code",
   "execution_count": 18,
   "id": "496c716c",
   "metadata": {},
   "outputs": [],
   "source": [
    "cur = conn.cursor()"
   ]
  },
  {
   "cell_type": "code",
   "execution_count": 19,
   "id": "0daabfad",
   "metadata": {},
   "outputs": [],
   "source": [
    "cur.execute(\"show databases\")"
   ]
  },
  {
   "cell_type": "code",
   "execution_count": 20,
   "id": "f42302a7",
   "metadata": {},
   "outputs": [],
   "source": [
    "res = cur.fetchall()"
   ]
  },
  {
   "cell_type": "code",
   "execution_count": 21,
   "id": "26e1c040",
   "metadata": {},
   "outputs": [
    {
     "data": {
      "text/plain": [
       "[('information_schema',), ('mysql',), ('performance_schema',), ('sys',)]"
      ]
     },
     "execution_count": 21,
     "metadata": {},
     "output_type": "execute_result"
    }
   ],
   "source": [
    "res"
   ]
  },
  {
   "cell_type": "code",
   "execution_count": 22,
   "id": "208d9bb7",
   "metadata": {},
   "outputs": [
    {
     "name": "stdout",
     "output_type": "stream",
     "text": [
      "information_schema\n",
      "mysql\n",
      "performance_schema\n",
      "sys\n"
     ]
    }
   ],
   "source": [
    "for i in res:\n",
    "    print(i[0])"
   ]
  },
  {
   "cell_type": "code",
   "execution_count": 23,
   "id": "8bc7a046",
   "metadata": {},
   "outputs": [
    {
     "name": "stdout",
     "output_type": "stream",
     "text": [
      "True\n",
      "Database Created!!\n"
     ]
    }
   ],
   "source": [
    "import mysql.connector as connection\n",
    "\n",
    "try:\n",
    "    mydb = connection.connect(host=\"127.0.0.1\", user=\"root\", passwd=\"harryedward\",use_pure=True)\n",
    "    # check if the connection is established\n",
    "    print(mydb.is_connected())\n",
    "\n",
    "    query = \"Create database Student;\"\n",
    "    cursor = mydb.cursor() #create a cursor to execute queries\n",
    "    cursor.execute(query)\n",
    "    print(\"Database Created!!\")\n",
    "    mydb.close()\n",
    "except Exception as e:\n",
    "    mydb.close()\n",
    "    print(str(e))"
   ]
  },
  {
   "cell_type": "code",
   "execution_count": 24,
   "id": "2b78da12",
   "metadata": {},
   "outputs": [
    {
     "name": "stdout",
     "output_type": "stream",
     "text": [
      "True\n",
      "Table Created!!\n"
     ]
    }
   ],
   "source": [
    "import mysql.connector as connection\n",
    "\n",
    "try:\n",
    "    mydb = connection.connect(host=\"127.0.0.1\", database = 'Student',user=\"root\", passwd=\"harryedward\",use_pure=True)\n",
    "    # check if the connection is established\n",
    "    print(mydb.is_connected())\n",
    "\n",
    "    query = \"CREATE TABLE StudentDetails (Studentid INT(10) AUTO_INCREMENT PRIMARY KEY,FirstName VARCHAR(60),\" \\\n",
    "            \"LastName VARCHAR(60), RegistrationDate DATE,Class Varchar(20), Section Varchar(10))\"\n",
    "\n",
    "    cursor = mydb.cursor() #create a cursor to execute queries\n",
    "    cursor.execute(query)\n",
    "    print(\"Table Created!!\")\n",
    "    mydb.close()\n",
    "except Exception as e:\n",
    "    mydb.close()\n",
    "    print(str(e))"
   ]
  },
  {
   "cell_type": "code",
   "execution_count": 25,
   "id": "9b9d5ede",
   "metadata": {},
   "outputs": [],
   "source": [
    "mydb = connection.connect(host=\"127.0.0.1\", database = 'Student',user=\"root\", passwd=\"harryedward\",use_pure=True)"
   ]
  },
  {
   "cell_type": "code",
   "execution_count": 26,
   "id": "605b07be",
   "metadata": {},
   "outputs": [
    {
     "data": {
      "text/plain": [
       "True"
      ]
     },
     "execution_count": 26,
     "metadata": {},
     "output_type": "execute_result"
    }
   ],
   "source": [
    "mydb.is_connected()"
   ]
  },
  {
   "cell_type": "code",
   "execution_count": 32,
   "id": "c949f0d9",
   "metadata": {},
   "outputs": [
    {
     "name": "stdout",
     "output_type": "stream",
     "text": [
      "True\n",
      "1062 (23000): Duplicate entry '1133' for key 'studentdetails.PRIMARY'\n"
     ]
    }
   ],
   "source": [
    "import mysql.connector as connection\n",
    "\n",
    "try:\n",
    "    mydb = connection.connect(host=\"127.0.0.1\", database = 'Student',user=\"root\", passwd=\"harryedward\",use_pure=True)\n",
    "    # check if the connection is established\n",
    "    print(mydb.is_connected())\n",
    "    query = \"INSERT INTO StudentDetails VALUES ('1133','Shrayan','Bandyopadhyay','2000-09-10','College','A')\"\n",
    "\n",
    "    cursor = mydb.cursor() #create a cursor to execute queries\n",
    "    cursor.execute(query)\n",
    "    print(\"Values inserted into the table!!\")\n",
    "    mydb.commit() #after inserting the data we have to commit the data which will finally insert the data to thedatabase. Else data will not be inserted to the database. \n",
    "    mydb.close()\n",
    "except Exception as e:\n",
    "    mydb.close()\n",
    "    print(str(e))"
   ]
  },
  {
   "cell_type": "code",
   "execution_count": null,
   "id": "dcfb20ad",
   "metadata": {},
   "outputs": [],
   "source": []
  }
 ],
 "metadata": {
  "kernelspec": {
   "display_name": "Python 3",
   "language": "python",
   "name": "python3"
  },
  "language_info": {
   "codemirror_mode": {
    "name": "ipython",
    "version": 3
   },
   "file_extension": ".py",
   "mimetype": "text/x-python",
   "name": "python",
   "nbconvert_exporter": "python",
   "pygments_lexer": "ipython3",
   "version": "3.8.8"
  }
 },
 "nbformat": 4,
 "nbformat_minor": 5
}
