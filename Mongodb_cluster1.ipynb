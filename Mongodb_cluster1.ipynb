{
  "nbformat": 4,
  "nbformat_minor": 0,
  "metadata": {
    "colab": {
      "name": "Mongodb_cluster1.ipynb",
      "provenance": [],
      "collapsed_sections": [],
      "authorship_tag": "ABX9TyMBTYQ/VwNjjKCr1KT1usNe",
      "include_colab_link": true
    },
    "kernelspec": {
      "name": "python3",
      "display_name": "Python 3"
    },
    "language_info": {
      "name": "python"
    }
  },
  "cells": [
    {
      "cell_type": "markdown",
      "metadata": {
        "id": "view-in-github",
        "colab_type": "text"
      },
      "source": [
        "<a href=\"https://colab.research.google.com/github/mr-shrayan/FullStackDataScience/blob/master/Mongodb_cluster1.ipynb\" target=\"_parent\"><img src=\"https://colab.research.google.com/assets/colab-badge.svg\" alt=\"Open In Colab\"/></a>"
      ]
    },
    {
      "cell_type": "markdown",
      "source": [
        "Database 1 Mongodb - cloud.mongodb.com"
      ],
      "metadata": {
        "id": "XX_RPF2RTrFN"
      }
    },
    {
      "cell_type": "code",
      "source": [
        "!pip install dnspython"
      ],
      "metadata": {
        "colab": {
          "base_uri": "https://localhost:8080/"
        },
        "id": "ebD__wKjonEM",
        "outputId": "ec224d0b-df8e-431a-ecd5-40296cc4e3f5"
      },
      "execution_count": 2,
      "outputs": [
        {
          "output_type": "stream",
          "name": "stdout",
          "text": [
            "Collecting dnspython\n",
            "  Downloading dnspython-2.2.1-py3-none-any.whl (269 kB)\n",
            "\u001b[?25l\r\u001b[K     |█▏                              | 10 kB 24.6 MB/s eta 0:00:01\r\u001b[K     |██▍                             | 20 kB 28.8 MB/s eta 0:00:01\r\u001b[K     |███▋                            | 30 kB 34.2 MB/s eta 0:00:01\r\u001b[K     |████▉                           | 40 kB 31.9 MB/s eta 0:00:01\r\u001b[K     |██████                          | 51 kB 21.5 MB/s eta 0:00:01\r\u001b[K     |███████▎                        | 61 kB 24.5 MB/s eta 0:00:01\r\u001b[K     |████████▌                       | 71 kB 24.9 MB/s eta 0:00:01\r\u001b[K     |█████████▊                      | 81 kB 26.6 MB/s eta 0:00:01\r\u001b[K     |███████████                     | 92 kB 28.1 MB/s eta 0:00:01\r\u001b[K     |████████████▏                   | 102 kB 26.9 MB/s eta 0:00:01\r\u001b[K     |█████████████▍                  | 112 kB 26.9 MB/s eta 0:00:01\r\u001b[K     |██████████████▋                 | 122 kB 26.9 MB/s eta 0:00:01\r\u001b[K     |███████████████▉                | 133 kB 26.9 MB/s eta 0:00:01\r\u001b[K     |█████████████████               | 143 kB 26.9 MB/s eta 0:00:01\r\u001b[K     |██████████████████▎             | 153 kB 26.9 MB/s eta 0:00:01\r\u001b[K     |███████████████████▌            | 163 kB 26.9 MB/s eta 0:00:01\r\u001b[K     |████████████████████▊           | 174 kB 26.9 MB/s eta 0:00:01\r\u001b[K     |██████████████████████          | 184 kB 26.9 MB/s eta 0:00:01\r\u001b[K     |███████████████████████▏        | 194 kB 26.9 MB/s eta 0:00:01\r\u001b[K     |████████████████████████▍       | 204 kB 26.9 MB/s eta 0:00:01\r\u001b[K     |█████████████████████████▋      | 215 kB 26.9 MB/s eta 0:00:01\r\u001b[K     |██████████████████████████▉     | 225 kB 26.9 MB/s eta 0:00:01\r\u001b[K     |████████████████████████████    | 235 kB 26.9 MB/s eta 0:00:01\r\u001b[K     |█████████████████████████████▎  | 245 kB 26.9 MB/s eta 0:00:01\r\u001b[K     |██████████████████████████████▍ | 256 kB 26.9 MB/s eta 0:00:01\r\u001b[K     |███████████████████████████████▋| 266 kB 26.9 MB/s eta 0:00:01\r\u001b[K     |████████████████████████████████| 269 kB 26.9 MB/s \n",
            "\u001b[?25hInstalling collected packages: dnspython\n",
            "Successfully installed dnspython-2.2.1\n"
          ]
        }
      ]
    },
    {
      "cell_type": "code",
      "execution_count": 3,
      "metadata": {
        "id": "Mx7_kG-HTkO3"
      },
      "outputs": [],
      "source": [
        "import pymongo\n",
        "from pymongo import MongoClient\n",
        "import urllib.parse"
      ]
    },
    {
      "cell_type": "code",
      "source": [
        "!pip install pymongo[srv]"
      ],
      "metadata": {
        "id": "vuGlzem2U7Yu",
        "outputId": "149d8239-14e5-4e75-fb72-c7ccaf7f7ec5",
        "colab": {
          "base_uri": "https://localhost:8080/"
        }
      },
      "execution_count": 4,
      "outputs": [
        {
          "output_type": "stream",
          "name": "stdout",
          "text": [
            "Requirement already satisfied: pymongo[srv] in /usr/local/lib/python3.7/dist-packages (4.1.1)\n",
            "Requirement already satisfied: dnspython<3.0.0,>=1.16.0 in /usr/local/lib/python3.7/dist-packages (from pymongo[srv]) (2.2.1)\n"
          ]
        }
      ]
    },
    {
      "cell_type": "code",
      "source": [
        ""
      ],
      "metadata": {
        "id": "ZPVYNErvg84J"
      },
      "execution_count": null,
      "outputs": []
    },
    {
      "cell_type": "markdown",
      "source": [
        "Below code is used to enter username and password to connect to a a mongodb cluster:\n",
        "Through Mongodb Atlas:\n",
        "```\n",
        "username = urllib.parse.quote_plus('shrayan')\n",
        "password = urllib.parse.quote_plus('harryedward@1234')\n",
        "\n",
        "client = pymongo.MongoClient('mongodb://%s:%s@cluster0.5gjry.mongodb.net/myFirstDatabase?retryWrites=true&w=majority' % (username, password))\n",
        "db = client.test\n",
        "```\n",
        "Through Mongodb Compass: \n",
        "\n",
        "```\n",
        "import pymongo\n",
        "client = pymongo.MongoClient(\"mongodb://localhost:27017/\")\n",
        "client\n",
        "```\n",
        "\n"
      ],
      "metadata": {
        "id": "xRys9h61UDqp"
      }
    },
    {
      "cell_type": "code",
      "source": [
        ""
      ],
      "metadata": {
        "id": "-vqL060Gg4r7"
      },
      "execution_count": null,
      "outputs": []
    },
    {
      "cell_type": "code",
      "source": [
        "username = urllib.parse.quote_plus('shrayan')\n",
        "password = urllib.parse.quote_plus('harryedward@1234')\n",
        "\n",
        "client_cloud = pymongo.MongoClient(\"mongodb+srv://%s:%s@cluster1.5gjry.mongodb.net/myFirstDatabase?retryWrites=true&w=majority&ssl=true\" % (username, password))\n",
        "db = client_cloud.test\n"
      ],
      "metadata": {
        "id": "VQSjFAGrT4Vx"
      },
      "execution_count": 5,
      "outputs": []
    },
    {
      "cell_type": "code",
      "source": [
        "db"
      ],
      "metadata": {
        "id": "E5XdPzB8T3-N",
        "colab": {
          "base_uri": "https://localhost:8080/"
        },
        "outputId": "8b7ac083-3024-4674-833a-8f9c41ff60f0"
      },
      "execution_count": 6,
      "outputs": [
        {
          "output_type": "execute_result",
          "data": {
            "text/plain": [
              "Database(MongoClient(host=['cluster1-shard-00-02.5gjry.mongodb.net:27017', 'cluster1-shard-00-00.5gjry.mongodb.net:27017', 'cluster1-shard-00-01.5gjry.mongodb.net:27017'], document_class=dict, tz_aware=False, connect=True, retrywrites=True, w='majority', authsource='admin', replicaset='atlas-12yh5p-shard-0', tls=True), 'test')"
            ]
          },
          "metadata": {},
          "execution_count": 6
        }
      ]
    },
    {
      "cell_type": "code",
      "source": [
        "db_1 = client_cloud[\"shrayan_bandyopadhyay\"]"
      ],
      "metadata": {
        "id": "b7ytEjVdT3i3"
      },
      "execution_count": 7,
      "outputs": []
    },
    {
      "cell_type": "code",
      "source": [
        "db_1"
      ],
      "metadata": {
        "colab": {
          "base_uri": "https://localhost:8080/"
        },
        "id": "vBUv_ubVjpZb",
        "outputId": "da5155ce-1438-4b08-ba08-ebc705619173"
      },
      "execution_count": 8,
      "outputs": [
        {
          "output_type": "execute_result",
          "data": {
            "text/plain": [
              "Database(MongoClient(host=['cluster1-shard-00-02.5gjry.mongodb.net:27017', 'cluster1-shard-00-00.5gjry.mongodb.net:27017', 'cluster1-shard-00-01.5gjry.mongodb.net:27017'], document_class=dict, tz_aware=False, connect=True, retrywrites=True, w='majority', authsource='admin', replicaset='atlas-12yh5p-shard-0', tls=True), 'shrayan_bandyopadhyay')"
            ]
          },
          "metadata": {},
          "execution_count": 8
        }
      ]
    },
    {
      "cell_type": "code",
      "source": [
        ""
      ],
      "metadata": {
        "id": "MCkUpxNYT0xY"
      },
      "execution_count": null,
      "outputs": []
    },
    {
      "cell_type": "code",
      "source": [
        "client_cloud.list_database_names()"
      ],
      "metadata": {
        "id": "LUTWPL-oTwsx",
        "colab": {
          "base_uri": "https://localhost:8080/"
        },
        "outputId": "47bce293-2a9e-4759-90cd-93d748c24596"
      },
      "execution_count": 9,
      "outputs": [
        {
          "output_type": "execute_result",
          "data": {
            "text/plain": [
              "['shrayan_bandyopadhyay', 'admin', 'local']"
            ]
          },
          "metadata": {},
          "execution_count": 9
        }
      ]
    },
    {
      "cell_type": "markdown",
      "source": [
        "# **Insert a record in the collection**\n",
        "collection is equilavent to a table but the format is different"
      ],
      "metadata": {
        "id": "FZGEUMyYl48C"
      }
    },
    {
      "cell_type": "code",
      "source": [
        "db_1"
      ],
      "metadata": {
        "colab": {
          "base_uri": "https://localhost:8080/"
        },
        "id": "r_rury0qlpDC",
        "outputId": "a706590a-d8af-46ef-cfdb-9b1eb3801c40"
      },
      "execution_count": null,
      "outputs": [
        {
          "output_type": "execute_result",
          "data": {
            "text/plain": [
              "Database(MongoClient(host=['cluster1-shard-00-02.5gjry.mongodb.net:27017', 'cluster1-shard-00-01.5gjry.mongodb.net:27017', 'cluster1-shard-00-00.5gjry.mongodb.net:27017'], document_class=dict, tz_aware=False, connect=True, retrywrites=True, w='majority', authsource='admin', replicaset='atlas-12yh5p-shard-0', tls=True), 'shrayan_bandyopadhyay')"
            ]
          },
          "metadata": {},
          "execution_count": 7
        }
      ]
    },
    {
      "cell_type": "code",
      "source": [
        "collection = db_1['test']\n",
        "collection"
      ],
      "metadata": {
        "colab": {
          "base_uri": "https://localhost:8080/"
        },
        "id": "FvxQfSd0l2Rt",
        "outputId": "84565164-9d52-4be2-d8f7-5eaa93a06f74"
      },
      "execution_count": null,
      "outputs": [
        {
          "output_type": "execute_result",
          "data": {
            "text/plain": [
              "Collection(Database(MongoClient(host=['cluster1-shard-00-02.5gjry.mongodb.net:27017', 'cluster1-shard-00-01.5gjry.mongodb.net:27017', 'cluster1-shard-00-00.5gjry.mongodb.net:27017'], document_class=dict, tz_aware=False, connect=True, retrywrites=True, w='majority', authsource='admin', replicaset='atlas-12yh5p-shard-0', tls=True), 'shrayan_bandyopadhyay'), 'test')"
            ]
          },
          "metadata": {},
          "execution_count": 8
        }
      ]
    },
    {
      "cell_type": "code",
      "source": [
        "record = {'companyName': 'Ineuron',\n",
        "          'product':'Affordable AI',\n",
        "          'courseOffered':'Deep Learning For Computer Vision'}\n",
        "          \n",
        "collection.insert_one(record)"
      ],
      "metadata": {
        "colab": {
          "base_uri": "https://localhost:8080/"
        },
        "id": "yTLPzKObj20P",
        "outputId": "ba9ce9d6-e468-4808-a9a9-3f098565f8ea"
      },
      "execution_count": null,
      "outputs": [
        {
          "output_type": "execute_result",
          "data": {
            "text/plain": [
              "<pymongo.results.InsertOneResult at 0x7fa935afa730>"
            ]
          },
          "metadata": {},
          "execution_count": 9
        }
      ]
    },
    {
      "cell_type": "code",
      "source": [
        "record = {'companyName': 'morrex',\n",
        "          'product':'logistics',\n",
        "          'courseOffered':'Transportation of materials'}\n",
        "          \n",
        "collection.insert_one(record)"
      ],
      "metadata": {
        "colab": {
          "base_uri": "https://localhost:8080/"
        },
        "id": "_9ervp8In4id",
        "outputId": "9f8de6bf-cc97-4d77-9347-835612e48ca4"
      },
      "execution_count": null,
      "outputs": [
        {
          "output_type": "execute_result",
          "data": {
            "text/plain": [
              "<pymongo.results.InsertOneResult at 0x7fa929534230>"
            ]
          },
          "metadata": {},
          "execution_count": 10
        }
      ]
    },
    {
      "cell_type": "code",
      "source": [
        "record = {'companyName': 'HIT',\n",
        "          'product':'College',\n",
        "          'courseOffered':'CSE'}\n",
        "          \n",
        "collection.insert_one(record)"
      ],
      "metadata": {
        "colab": {
          "base_uri": "https://localhost:8080/"
        },
        "id": "KUctEU3QqZcI",
        "outputId": "ce7fe598-6ee9-4c31-a09c-283f0fa12f8e"
      },
      "execution_count": null,
      "outputs": [
        {
          "output_type": "execute_result",
          "data": {
            "text/plain": [
              "<pymongo.results.InsertOneResult at 0x7fa936a74c30>"
            ]
          },
          "metadata": {},
          "execution_count": 11
        }
      ]
    },
    {
      "cell_type": "code",
      "source": [
        "record = {'companyName': 'Ineuron',\n",
        "          'product':'Affordable AI',\n",
        "          'courseOffered':'Deep Learning For Computer Vision',\n",
        "          'name': ['Shrayan','Bandyopadhyay',9051989123]}\n",
        "          \n",
        "collection.insert_one(record)"
      ],
      "metadata": {
        "colab": {
          "base_uri": "https://localhost:8080/"
        },
        "id": "DjagP3mUqVh_",
        "outputId": "e063fca5-e588-45cc-e2cf-0806f841e2a3"
      },
      "execution_count": null,
      "outputs": [
        {
          "output_type": "execute_result",
          "data": {
            "text/plain": [
              "<pymongo.results.InsertOneResult at 0x7fa9295f4a50>"
            ]
          },
          "metadata": {},
          "execution_count": 12
        }
      ]
    },
    {
      "cell_type": "code",
      "source": [
        ""
      ],
      "metadata": {
        "id": "tJFZTlPzqu8X"
      },
      "execution_count": null,
      "outputs": []
    }
  ]
}