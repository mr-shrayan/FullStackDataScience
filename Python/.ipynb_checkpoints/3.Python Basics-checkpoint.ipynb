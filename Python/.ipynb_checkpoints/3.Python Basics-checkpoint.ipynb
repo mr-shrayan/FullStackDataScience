{
 "cells": [
  {
   "cell_type": "code",
   "execution_count": 1,
   "id": "18f4743e",
   "metadata": {},
   "outputs": [
    {
     "name": "stdout",
     "output_type": "stream",
     "text": [
      "Shrayan\n"
     ]
    }
   ],
   "source": [
    "print(\"Shrayan\")"
   ]
  },
  {
   "cell_type": "code",
   "execution_count": 2,
   "id": "bd877dde",
   "metadata": {},
   "outputs": [],
   "source": [
    "#single line comment"
   ]
  },
  {
   "cell_type": "code",
   "execution_count": 7,
   "id": "cdb78da9",
   "metadata": {},
   "outputs": [
    {
     "data": {
      "text/plain": [
       "'\\nmulti\\nline\\ncomment\\n'"
      ]
     },
     "execution_count": 7,
     "metadata": {},
     "output_type": "execute_result"
    }
   ],
   "source": [
    "'''\n",
    "multi\n",
    "line\n",
    "comment\n",
    "'''"
   ]
  },
  {
   "cell_type": "code",
   "execution_count": 10,
   "id": "e2a5325c",
   "metadata": {},
   "outputs": [],
   "source": [
    "a = 10 # a is a variable that is used to store a value"
   ]
  },
  {
   "cell_type": "code",
   "execution_count": 9,
   "id": "90ef236e",
   "metadata": {},
   "outputs": [
    {
     "data": {
      "text/plain": [
       "10"
      ]
     },
     "execution_count": 9,
     "metadata": {},
     "output_type": "execute_result"
    }
   ],
   "source": [
    "a"
   ]
  },
  {
   "cell_type": "code",
   "execution_count": 12,
   "id": "bec5c1a5",
   "metadata": {},
   "outputs": [],
   "source": [
    "b = \"Shrayan\""
   ]
  },
  {
   "cell_type": "code",
   "execution_count": 16,
   "id": "0b05a272",
   "metadata": {},
   "outputs": [
    {
     "name": "stdout",
     "output_type": "stream",
     "text": [
      "Shrayan\n"
     ]
    }
   ],
   "source": [
    "print(b)"
   ]
  },
  {
   "cell_type": "code",
   "execution_count": 17,
   "id": "e43d4757",
   "metadata": {},
   "outputs": [
    {
     "data": {
      "text/plain": [
       "'Shrayan'"
      ]
     },
     "execution_count": 17,
     "metadata": {},
     "output_type": "execute_result"
    }
   ],
   "source": [
    "b"
   ]
  },
  {
   "cell_type": "code",
   "execution_count": 22,
   "id": "6e3db4a1",
   "metadata": {},
   "outputs": [],
   "source": [
    "c= 1.5"
   ]
  },
  {
   "cell_type": "code",
   "execution_count": 25,
   "id": "d2ba66f2",
   "metadata": {},
   "outputs": [],
   "source": [
    "d = True"
   ]
  },
  {
   "cell_type": "code",
   "execution_count": 26,
   "id": "55454e1c",
   "metadata": {},
   "outputs": [
    {
     "name": "stdout",
     "output_type": "stream",
     "text": [
      "<class 'int'>\n",
      "<class 'str'>\n",
      "<class 'float'>\n",
      "<class 'bool'>\n"
     ]
    }
   ],
   "source": [
    "print(type (a))\n",
    "print(type (b))\n",
    "print(type (c))\n",
    "print(type (d))"
   ]
  },
  {
   "cell_type": "code",
   "execution_count": 20,
   "id": "c9b3652f",
   "metadata": {},
   "outputs": [],
   "source": [
    "# Variable names will not be allowed with a number or a few special case characters. \n",
    "# Please refer to the python documnet for further reference"
   ]
  },
  {
   "cell_type": "code",
   "execution_count": 27,
   "id": "1274b9f1",
   "metadata": {},
   "outputs": [
    {
     "name": "stdout",
     "output_type": "stream",
     "text": [
      "4\n",
      "0\n"
     ]
    }
   ],
   "source": [
    "print(True+True+True+False+True)\n",
    "print(False-True+True)"
   ]
  },
  {
   "cell_type": "code",
   "execution_count": 36,
   "id": "7503c430",
   "metadata": {},
   "outputs": [],
   "source": [
    "n = 40+30j # j is the only notation in python programming that represents a complex number. \n",
    "m = 56+8j"
   ]
  },
  {
   "cell_type": "code",
   "execution_count": 29,
   "id": "0b385e87",
   "metadata": {},
   "outputs": [
    {
     "data": {
      "text/plain": [
       "complex"
      ]
     },
     "execution_count": 29,
     "metadata": {},
     "output_type": "execute_result"
    }
   ],
   "source": [
    "type(n)"
   ]
  },
  {
   "cell_type": "code",
   "execution_count": 30,
   "id": "75100c79",
   "metadata": {},
   "outputs": [
    {
     "data": {
      "text/plain": [
       "(40+30j)"
      ]
     },
     "execution_count": 30,
     "metadata": {},
     "output_type": "execute_result"
    }
   ],
   "source": [
    "n"
   ]
  },
  {
   "cell_type": "code",
   "execution_count": 34,
   "id": "87a48339",
   "metadata": {},
   "outputs": [
    {
     "data": {
      "text/plain": [
       "40.0"
      ]
     },
     "execution_count": 34,
     "metadata": {},
     "output_type": "execute_result"
    }
   ],
   "source": [
    "n.real#geting the real part of the number"
   ]
  },
  {
   "cell_type": "code",
   "execution_count": 33,
   "id": "471c402d",
   "metadata": {},
   "outputs": [
    {
     "data": {
      "text/plain": [
       "30.0"
      ]
     },
     "execution_count": 33,
     "metadata": {},
     "output_type": "execute_result"
    }
   ],
   "source": [
    "n.imag#getting the imaginary part of the number. J is a notation"
   ]
  },
  {
   "cell_type": "code",
   "execution_count": null,
   "id": "c247b412",
   "metadata": {},
   "outputs": [],
   "source": []
  }
 ],
 "metadata": {
  "kernelspec": {
   "display_name": "Python 3",
   "language": "python",
   "name": "python3"
  },
  "language_info": {
   "codemirror_mode": {
    "name": "ipython",
    "version": 3
   },
   "file_extension": ".py",
   "mimetype": "text/x-python",
   "name": "python",
   "nbconvert_exporter": "python",
   "pygments_lexer": "ipython3",
   "version": "3.8.8"
  }
 },
 "nbformat": 4,
 "nbformat_minor": 5
}
