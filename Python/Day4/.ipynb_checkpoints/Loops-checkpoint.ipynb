{
 "cells": [
  {
   "cell_type": "markdown",
   "id": "906d9987",
   "metadata": {},
   "source": [
    "## If else statement"
   ]
  },
  {
   "cell_type": "code",
   "execution_count": 1,
   "id": "9dc44f99",
   "metadata": {},
   "outputs": [
    {
     "name": "stdout",
     "output_type": "stream",
     "text": [
      "Enter your First name: Shrayan\n",
      "Enter your Last name: Bandyopadhyay\n",
      "The name entered is correct\n"
     ]
    }
   ],
   "source": [
    "a = input(\"Enter your First name: \")\n",
    "b = input(\"Enter your Last name: \")\n",
    "\n",
    "if a == 'Shrayan' and b == \"Bandyopadhyay\":\n",
    "    print(\"The name entered is correct\")\n",
    "elif a == 'shrayan' and b == \"bandyopadhyay\":\n",
    "    print(\"The name entered in elif is correct\")\n",
    "else:\n",
    "    print(\"The name entered entered is incorrect\")"
   ]
  },
  {
   "cell_type": "markdown",
   "id": "eaeb468a",
   "metadata": {},
   "source": [
    "## While loop"
   ]
  },
  {
   "cell_type": "code",
   "execution_count": 2,
   "id": "2f2651ac",
   "metadata": {},
   "outputs": [
    {
     "name": "stdout",
     "output_type": "stream",
     "text": [
      "This is my current speed:  0\n",
      "This is my current speed:  1\n",
      "This is my current speed:  2\n",
      "This is my current speed:  3\n",
      "This is my current speed:  4\n",
      "This is my current speed:  5\n",
      "This is my current speed:  6\n",
      "This is my current speed:  7\n",
      "This is my current speed:  8\n",
      "This is my current speed:  9\n",
      "This is my current speed:  10\n",
      "This is my current speed:  11\n",
      "This is my current speed:  12\n",
      "This is my current speed:  13\n",
      "This is my current speed:  14\n",
      "This is my current speed:  15\n",
      "This is my current speed:  16\n",
      "This is my current speed:  17\n",
      "This is my current speed:  18\n",
      "This is my current speed:  19\n",
      "This is my current speed:  20\n",
      "This is my current speed:  21\n",
      "This is my current speed:  22\n",
      "This is my current speed:  23\n",
      "This is my current speed:  24\n",
      "This is my current speed:  25\n",
      "This is my current speed:  26\n",
      "This is my current speed:  27\n",
      "This is my current speed:  28\n",
      "This is my current speed:  29\n",
      "This is my current speed:  30\n",
      "This is my current speed:  31\n",
      "This is my current speed:  32\n",
      "This is my current speed:  33\n",
      "This is my current speed:  34\n",
      "This is my current speed:  35\n",
      "This is my current speed:  36\n",
      "This is my current speed:  37\n",
      "This is my current speed:  38\n",
      "This is my current speed:  39\n",
      "This is my current speed:  40\n",
      "This is my current speed:  41\n",
      "This is my current speed:  42\n",
      "This is my current speed:  43\n",
      "This is my current speed:  44\n",
      "This is my current speed:  45\n",
      "This is my current speed:  46\n",
      "This is my current speed:  47\n",
      "This is my current speed:  48\n",
      "This is my current speed:  49\n",
      "This is my current speed:  50\n",
      "This is my current speed:  51\n",
      "This is my current speed:  52\n",
      "This is my current speed:  53\n",
      "This is my current speed:  54\n",
      "This is my current speed:  55\n",
      "This is my current speed:  56\n",
      "This is my current speed:  57\n",
      "This is my current speed:  58\n",
      "This is my current speed:  59\n",
      "This is my current speed:  60\n",
      "This is my current speed:  61\n",
      "This is my current speed:  62\n",
      "This is my current speed:  63\n",
      "This is my current speed:  64\n",
      "This is my current speed:  65\n",
      "This is my current speed:  66\n",
      "This is my current speed:  67\n",
      "This is my current speed:  68\n",
      "This is my current speed:  69\n",
      "This is my current speed:  70\n",
      "This is my current speed:  71\n",
      "This is my current speed:  72\n",
      "This is my current speed:  73\n",
      "This is my current speed:  74\n",
      "This is my current speed:  75\n",
      "This is my current speed:  76\n",
      "This is my current speed:  77\n",
      "This is my current speed:  78\n",
      "This is my current speed:  79\n",
      "This is my current speed:  80\n",
      "This is my current speed:  81\n",
      "This is my current speed:  82\n",
      "This is my current speed:  83\n",
      "This is my current speed:  84\n",
      "This is my current speed:  85\n",
      "This is my current speed:  86\n",
      "This is my current speed:  87\n",
      "This is my current speed:  88\n",
      "This is my current speed:  89\n",
      "This is my current speed:  90\n",
      "This is my current speed:  91\n",
      "This is my current speed:  92\n",
      "This is my current speed:  93\n",
      "This is my current speed:  94\n",
      "This is my current speed:  95\n",
      "This is my current speed:  96\n",
      "This is my current speed:  97\n",
      "This is my current speed:  98\n",
      "This is my current speed:  99\n",
      "Final Speed reeached - 100\n"
     ]
    }
   ],
   "source": [
    "initial_speed=0\n",
    "final_speed=100\n",
    "count = 0\n",
    "\n",
    "while initial_speed <= final_speed:\n",
    "    print(\"This is my current speed: \", count)\n",
    "    count = count + 1\n",
    "    if count == 100:\n",
    "        print(\"Final Speed reeached - 100\")\n",
    "        break"
   ]
  },
  {
   "cell_type": "markdown",
   "id": "7dc1d178",
   "metadata": {},
   "source": [
    "### We also have the option to update the \"initial_speed\" variable value. But we should avoid updating the value of the variable and should instead find out sollutions other than that. "
   ]
  },
  {
   "cell_type": "code",
   "execution_count": null,
   "id": "4ea99332",
   "metadata": {},
   "outputs": [],
   "source": []
  }
 ],
 "metadata": {
  "kernelspec": {
   "display_name": "Python 3",
   "language": "python",
   "name": "python3"
  },
  "language_info": {
   "codemirror_mode": {
    "name": "ipython",
    "version": 3
   },
   "file_extension": ".py",
   "mimetype": "text/x-python",
   "name": "python",
   "nbconvert_exporter": "python",
   "pygments_lexer": "ipython3",
   "version": "3.8.8"
  }
 },
 "nbformat": 4,
 "nbformat_minor": 5
}
